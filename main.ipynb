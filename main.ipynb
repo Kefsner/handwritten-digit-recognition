{
 "cells": [
  {
   "cell_type": "markdown",
   "id": "66bab305-9a69-41c1-8ed5-d9b89505c0f1",
   "metadata": {},
   "source": [
    "# Notebook Imports"
   ]
  },
  {
   "cell_type": "code",
   "execution_count": 34,
   "id": "66fd43ac-29f0-4e88-8e41-1ed9bce8dbf0",
   "metadata": {},
   "outputs": [],
   "source": [
    "import os\n",
    "import numpy as np\n",
    "import tensorflow as tf\n",
    "\n",
    "from time import strftime"
   ]
  },
  {
   "cell_type": "markdown",
   "id": "841a2437-4fc2-421e-842a-3833a47f7b17",
   "metadata": {},
   "source": [
    "# Constants"
   ]
  },
  {
   "cell_type": "code",
   "execution_count": 35,
   "id": "842f83c8-a5e7-4e7a-9d88-b9ff4b0d8d1e",
   "metadata": {},
   "outputs": [],
   "source": [
    "X_TRAIN_PATH = 'data/digit_xtrain.csv'\n",
    "X_TEST_PATH = 'data/digit_xtest.csv'\n",
    "Y_TRAIN_PATH = 'data/digit_ytrain.csv'\n",
    "Y_TEST_PATH = 'data/digit_ytest.csv'\n",
    "\n",
    "NR_CLASSES = 10\n",
    "VALIDATION_SIZE = 10000\n",
    "IMAGE_WIDTH = 28\n",
    "IMAGE_HEIGHT = 28\n",
    "CHANNELS = 1\n",
    "TOTAL_INPUTS = IMAGE_HEIGHT * IMAGE_WIDTH * CHANNELS\n",
    "\n",
    "LOGGING_PATH = 'tensorboard_mnist_digit_logs/'"
   ]
  },
  {
   "cell_type": "code",
   "execution_count": 36,
   "id": "f7ff43ce-63fe-47d4-8e7a-74133016e70e",
   "metadata": {},
   "outputs": [],
   "source": [
    "x_train_all = np.loadtxt(X_TRAIN_PATH, delimiter=',', dtype=int)\n",
    "y_train_all = np.loadtxt(Y_TRAIN_PATH, delimiter=',', dtype=int)\n",
    "x_test = np.loadtxt(X_TEST_PATH, delimiter=',', dtype=int)\n",
    "y_test = np.loadtxt(Y_TEST_PATH, delimiter=',', dtype=int)"
   ]
  },
  {
   "cell_type": "markdown",
   "id": "56620f1f-4737-45c8-82f8-aed0b456af23",
   "metadata": {},
   "source": [
    "# Preprocessing"
   ]
  },
  {
   "cell_type": "code",
   "execution_count": 37,
   "id": "b8733082-1bb3-4b4b-913e-52c3976167b7",
   "metadata": {},
   "outputs": [],
   "source": [
    "# Re-scale\n",
    "x_train_all, x_test = x_train_all / 255.0, x_test / 255.0"
   ]
  },
  {
   "cell_type": "code",
   "execution_count": 38,
   "id": "9a530f5b-5725-40d4-b070-1bd45b0bf879",
   "metadata": {},
   "outputs": [],
   "source": [
    "# Convert target values to one-hot encoding\n",
    "y_train_all = np.eye(NR_CLASSES)[y_train_all]\n",
    "y_test = np.eye(NR_CLASSES)[y_test]"
   ]
  },
  {
   "cell_type": "code",
   "execution_count": 39,
   "id": "c20d714d-71d1-4b26-a1f2-ff849d999642",
   "metadata": {},
   "outputs": [],
   "source": [
    "# Create validation dataset from training data\n",
    "x_val = x_train_all[:VALIDATION_SIZE]\n",
    "y_val = y_train_all[:VALIDATION_SIZE]\n",
    "\n",
    "x_train = x_train_all[VALIDATION_SIZE:]\n",
    "y_train = y_train_all[VALIDATION_SIZE:]"
   ]
  },
  {
   "cell_type": "markdown",
   "id": "0bc8fcd4-d6ae-4b4b-97e4-3a2110354fb4",
   "metadata": {},
   "source": [
    "# Setup Tensorflow Graph"
   ]
  },
  {
   "cell_type": "code",
   "execution_count": 40,
   "id": "ca2fa1c6-d3f5-4261-9a59-585d11ada9ff",
   "metadata": {},
   "outputs": [
    {
     "ename": "AttributeError",
     "evalue": "module 'tensorflow' has no attribute 'placeholder'",
     "output_type": "error",
     "traceback": [
      "\u001b[0;31m---------------------------------------------------------------------------\u001b[0m",
      "\u001b[0;31mAttributeError\u001b[0m                            Traceback (most recent call last)",
      "Cell \u001b[0;32mIn[40], line 1\u001b[0m\n\u001b[0;32m----> 1\u001b[0m x \u001b[38;5;241m=\u001b[39m \u001b[43mtf\u001b[49m\u001b[38;5;241;43m.\u001b[39;49m\u001b[43mplaceholder\u001b[49m(tf\u001b[38;5;241m.\u001b[39mfloat32, shape\u001b[38;5;241m=\u001b[39m[\u001b[38;5;28;01mNone\u001b[39;00m, TOTAL_INPUTS], name\u001b[38;5;241m=\u001b[39m\u001b[38;5;124m'\u001b[39m\u001b[38;5;124mx\u001b[39m\u001b[38;5;124m'\u001b[39m)\n\u001b[1;32m      2\u001b[0m y \u001b[38;5;241m=\u001b[39m tf\u001b[38;5;241m.\u001b[39mplaceholder(tf\u001b[38;5;241m.\u001b[39mfloat32, shape\u001b[38;5;241m=\u001b[39m[\u001b[38;5;28;01mNone\u001b[39;00m, NR_CLASSES], name\u001b[38;5;241m=\u001b[39m\u001b[38;5;124m'\u001b[39m\u001b[38;5;124mlabels\u001b[39m\u001b[38;5;124m'\u001b[39m)\n",
      "\u001b[0;31mAttributeError\u001b[0m: module 'tensorflow' has no attribute 'placeholder'"
     ]
    }
   ],
   "source": [
    "x = tf.placeholder(tf.float32, shape=[None, TOTAL_INPUTS], name='x')\n",
    "y = tf.placeholder(tf.float32, shape=[None, NR_CLASSES], name='labels')"
   ]
  },
  {
   "cell_type": "markdown",
   "id": "6a0c2d8e-423d-4152-aef9-7e24b1d63b96",
   "metadata": {},
   "source": [
    "### Neural Network Architecture"
   ]
  },
  {
   "cell_type": "code",
   "execution_count": 8,
   "id": "784e5813-a897-4f37-82e5-5c9a79d65ccd",
   "metadata": {},
   "outputs": [],
   "source": [
    "# Hyperparameters\n",
    "nr_epochs = 50\n",
    "learning_rate = 1e-4\n",
    "\n",
    "n_hidden1 = 512\n",
    "n_hidden2 = 64"
   ]
  },
  {
   "cell_type": "code",
   "execution_count": 9,
   "id": "197016aa-a9f8-48f0-b6d3-835b80df6e5d",
   "metadata": {},
   "outputs": [],
   "source": [
    "def setup_layer(_input, weight, bias, name):\n",
    "    with tf.name_scope(name):\n",
    "        initial_w = tf.truncated_normal(shape=weight, stddev=0.1, seed=42)\n",
    "        w = tf.Variable(initial_value=initial_w, name='W')\n",
    "\n",
    "        initial_b = tf.constant(value=0.0, shape=bias)\n",
    "        b = tf.Variable(initial_value=initial_b, name='B')\n",
    "\n",
    "        layer_in = tf.matmul(_input, w) + b\n",
    "        \n",
    "        if name=='out':\n",
    "            layer_output = tf.nn.softmax(layer_in)\n",
    "        else:\n",
    "            layer_output = tf.nn.relu(layer_in)\n",
    "\n",
    "        tf.summary.histogram('weights', w)\n",
    "        tf.summary.histogram('biases', b)\n",
    "        \n",
    "        return layer_output"
   ]
  },
  {
   "cell_type": "code",
   "execution_count": 10,
   "id": "f0af30fd-a0bc-42fd-be63-7eeeceaf7225",
   "metadata": {},
   "outputs": [
    {
     "name": "stdout",
     "output_type": "stream",
     "text": [
      "WARNING:tensorflow:From /home/kesley/anaconda3/envs/mnist/lib/python3.10/site-packages/tensorflow/python/util/dispatch.py:1176: calling dropout (from tensorflow.python.ops.nn_ops) with keep_prob is deprecated and will be removed in a future version.\n",
      "Instructions for updating:\n",
      "Please use `rate` instead of `keep_prob`. Rate should be set to `rate = 1 - keep_prob`.\n"
     ]
    }
   ],
   "source": [
    "layer_1 = setup_layer(x, weight=[TOTAL_INPUTS, n_hidden1], bias=[n_hidden1], name='layer_1')\n",
    "\n",
    "layer_drop = tf.nn.dropout(layer_1, keep_prob=0.8, name='dropout_layer')\n",
    "\n",
    "layer_2 = setup_layer(layer_drop, weight=[n_hidden1, n_hidden2], bias=[n_hidden2], name='layer_2')\n",
    "\n",
    "output = setup_layer(layer_2, weight=[n_hidden2, NR_CLASSES], bias=[NR_CLASSES], name='out')\n",
    "\n",
    "model_name = f'{n_hidden1}-{n_hidden2} LR{learning_rate} E{nr_epochs}'"
   ]
  },
  {
   "cell_type": "markdown",
   "id": "efb12310-5fb1-42f1-91b4-9ffa2d046c7f",
   "metadata": {},
   "source": [
    "# Tensorboard Setup"
   ]
  },
  {
   "cell_type": "code",
   "execution_count": 11,
   "id": "e95e594b-b01d-48ae-81c1-e037ac3c8e12",
   "metadata": {},
   "outputs": [
    {
     "name": "stdout",
     "output_type": "stream",
     "text": [
      "Successfully created directories!\n"
     ]
    }
   ],
   "source": [
    "folder_name = f'{model_name} at {strftime(\"%H:%M\")}'\n",
    "directory = os.path.join(LOGGING_PATH, folder_name)\n",
    "\n",
    "try:\n",
    "    os.makedirs(directory)\n",
    "except OSError as exception:\n",
    "    print(exception.strerror)\n",
    "else:\n",
    "    print('Successfully created directories!')"
   ]
  },
  {
   "cell_type": "markdown",
   "id": "bf57fed8-7c9a-4b21-8eca-ca076f405372",
   "metadata": {},
   "source": [
    "# Loss, Optimization and Metrics"
   ]
  },
  {
   "cell_type": "code",
   "execution_count": 12,
   "id": "6581b5eb-f61c-47cb-9ef7-90b23d2b3102",
   "metadata": {},
   "outputs": [],
   "source": [
    "with tf.name_scope('loss'):\n",
    "    loss = tf.reduce_mean(tf.nn.softmax_cross_entropy_with_logits_v2(labels=y, logits=output))"
   ]
  },
  {
   "cell_type": "code",
   "execution_count": 13,
   "id": "83141746-a4ce-41a0-a7d6-87086be26cd3",
   "metadata": {},
   "outputs": [],
   "source": [
    "with tf.name_scope('optmizer'):\n",
    "    optmizer = tf.train.AdamOptimizer(learning_rate=learning_rate)\n",
    "    train_step = optmizer.minimize(loss=loss)"
   ]
  },
  {
   "cell_type": "code",
   "execution_count": 14,
   "id": "ec7c7742-4d90-4109-9056-73f3e6a14403",
   "metadata": {},
   "outputs": [],
   "source": [
    "with tf.name_scope('accuracy_calc'):\n",
    "    model_prediction = tf.argmax(output, axis=1, name='prediction')\n",
    "    correct_pred = tf.equal(model_prediction, tf.argmax(y, axis=1))\n",
    "    accuracy = tf.reduce_mean(tf.cast(correct_pred, tf.float32))"
   ]
  },
  {
   "cell_type": "code",
   "execution_count": 15,
   "id": "322126bc-0c3e-44b3-9ca0-b053ce686969",
   "metadata": {},
   "outputs": [],
   "source": [
    "with tf.name_scope('performance'):\n",
    "    tf.summary.scalar('accuracy', accuracy)\n",
    "    tf.summary.scalar('cost', loss)"
   ]
  },
  {
   "cell_type": "code",
   "execution_count": 16,
   "id": "b5a924d2-6cee-4f41-be43-066b8e9f3bc2",
   "metadata": {},
   "outputs": [],
   "source": [
    "with tf.name_scope('show__image'):\n",
    "    x_image = tf.reshape(x, [-1, 28, 28, 1])\n",
    "    tf.summary.image('image_input', x_image, max_outputs=6)"
   ]
  },
  {
   "cell_type": "markdown",
   "id": "4da678ce-1557-4b83-a69d-ac75fb8f9d58",
   "metadata": {},
   "source": [
    "# Run Session"
   ]
  },
  {
   "cell_type": "code",
   "execution_count": 17,
   "id": "86ffc96d-eefd-44cb-acdb-a42281fcc61b",
   "metadata": {},
   "outputs": [
    {
     "name": "stderr",
     "output_type": "stream",
     "text": [
      "2022-12-15 11:02:34.089157: I tensorflow/core/platform/cpu_feature_guard.cc:193] This TensorFlow binary is optimized with oneAPI Deep Neural Network Library (oneDNN) to use the following CPU instructions in performance-critical operations:  SSE4.1 SSE4.2 AVX AVX2 FMA\n",
      "To enable them in other operations, rebuild TensorFlow with the appropriate compiler flags.\n"
     ]
    }
   ],
   "source": [
    "sess = tf.Session()"
   ]
  },
  {
   "cell_type": "code",
   "execution_count": 18,
   "id": "95a98c8d-48f7-4efa-9186-c7b3cb626ccd",
   "metadata": {},
   "outputs": [],
   "source": [
    "# Setup Filewriter and Merge Summaries\n",
    "merged_summary = tf.summary.merge_all()\n",
    "\n",
    "train_writer = tf.summary.FileWriter(directory + '/train')\n",
    "train_writer.add_graph(sess.graph)\n",
    "\n",
    "validation_writer = tf.summary.FileWriter(directory + '/validation')"
   ]
  },
  {
   "cell_type": "code",
   "execution_count": 19,
   "id": "a45ced41-ae02-48b7-9180-586b61cfb3ed",
   "metadata": {},
   "outputs": [
    {
     "name": "stderr",
     "output_type": "stream",
     "text": [
      "2022-12-15 11:02:34.113122: I tensorflow/compiler/mlir/mlir_graph_optimization_pass.cc:354] MLIR V1 optimization pass is not enabled\n"
     ]
    }
   ],
   "source": [
    "init = tf.global_variables_initializer()\n",
    "sess.run(init)"
   ]
  },
  {
   "cell_type": "code",
   "execution_count": 20,
   "id": "3bcdab12-5bce-4ed5-9a2a-1cbdd8d301f6",
   "metadata": {},
   "outputs": [],
   "source": [
    "# Batching\n",
    "size_of_batch = 1000"
   ]
  },
  {
   "cell_type": "code",
   "execution_count": 21,
   "id": "185388c5-397e-4fb6-bc92-c569f2e5a49b",
   "metadata": {},
   "outputs": [],
   "source": [
    "num_examples = y_train.shape[0]\n",
    "nr_iterations = int(num_examples / size_of_batch)\n",
    "\n",
    "index_in_epoch = 0"
   ]
  },
  {
   "cell_type": "code",
   "execution_count": 22,
   "id": "2b99ae05-72b5-47fd-bcb1-5ac4565c7ce7",
   "metadata": {},
   "outputs": [],
   "source": [
    "def next_batch(batch_size, data, labels):\n",
    "    global num_examples\n",
    "    global index_in_epoch\n",
    "    \n",
    "    start = index_in_epoch\n",
    "    index_in_epoch += batch_size\n",
    "    \n",
    "    if index_in_epoch > num_examples:\n",
    "        start = 0\n",
    "        index_in_epoch = batch_size\n",
    "    \n",
    "    end = index_in_epoch\n",
    "    \n",
    "    return data[start:end], labels[start:end]"
   ]
  },
  {
   "cell_type": "markdown",
   "id": "b7b5e719-1274-4817-8ac1-a6c6ee12a390",
   "metadata": {},
   "source": [
    "### Training Loop"
   ]
  },
  {
   "cell_type": "code",
   "execution_count": 23,
   "id": "a6844cde-3979-4000-b71b-b6b5248b39d8",
   "metadata": {},
   "outputs": [
    {
     "name": "stdout",
     "output_type": "stream",
     "text": [
      "Epoch 0 \t| Training Accuracy = 0.3869999945163727\n",
      "Epoch 1 \t| Training Accuracy = 0.6919999718666077\n",
      "Epoch 2 \t| Training Accuracy = 0.800000011920929\n",
      "Epoch 3 \t| Training Accuracy = 0.8240000009536743\n",
      "Epoch 4 \t| Training Accuracy = 0.8429999947547913\n",
      "Epoch 5 \t| Training Accuracy = 0.8529999852180481\n",
      "Epoch 6 \t| Training Accuracy = 0.8500000238418579\n",
      "Epoch 7 \t| Training Accuracy = 0.8489999771118164\n",
      "Epoch 8 \t| Training Accuracy = 0.8560000061988831\n",
      "Epoch 9 \t| Training Accuracy = 0.8560000061988831\n",
      "Epoch 10 \t| Training Accuracy = 0.8539999723434448\n",
      "Epoch 11 \t| Training Accuracy = 0.8600000143051147\n",
      "Epoch 12 \t| Training Accuracy = 0.8610000014305115\n",
      "Epoch 13 \t| Training Accuracy = 0.8600000143051147\n",
      "Epoch 14 \t| Training Accuracy = 0.8640000224113464\n",
      "Epoch 15 \t| Training Accuracy = 0.8659999966621399\n",
      "Epoch 16 \t| Training Accuracy = 0.8619999885559082\n",
      "Epoch 17 \t| Training Accuracy = 0.8669999837875366\n",
      "Epoch 18 \t| Training Accuracy = 0.8650000095367432\n",
      "Epoch 19 \t| Training Accuracy = 0.8659999966621399\n",
      "Epoch 20 \t| Training Accuracy = 0.8690000176429749\n",
      "Epoch 21 \t| Training Accuracy = 0.8669999837875366\n",
      "Epoch 22 \t| Training Accuracy = 0.8690000176429749\n",
      "Epoch 23 \t| Training Accuracy = 0.8650000095367432\n",
      "Epoch 24 \t| Training Accuracy = 0.8659999966621399\n",
      "Epoch 25 \t| Training Accuracy = 0.8650000095367432\n",
      "Epoch 26 \t| Training Accuracy = 0.8659999966621399\n",
      "Epoch 27 \t| Training Accuracy = 0.8709999918937683\n",
      "Epoch 28 \t| Training Accuracy = 0.8669999837875366\n",
      "Epoch 29 \t| Training Accuracy = 0.8709999918937683\n",
      "Epoch 30 \t| Training Accuracy = 0.8669999837875366\n",
      "Epoch 31 \t| Training Accuracy = 0.8700000047683716\n",
      "Epoch 32 \t| Training Accuracy = 0.8709999918937683\n",
      "Epoch 33 \t| Training Accuracy = 0.8730000257492065\n",
      "Epoch 34 \t| Training Accuracy = 0.8740000128746033\n",
      "Epoch 35 \t| Training Accuracy = 0.8730000257492065\n",
      "Epoch 36 \t| Training Accuracy = 0.8730000257492065\n",
      "Epoch 37 \t| Training Accuracy = 0.8740000128746033\n",
      "Epoch 38 \t| Training Accuracy = 0.8730000257492065\n",
      "Epoch 39 \t| Training Accuracy = 0.8730000257492065\n",
      "Epoch 40 \t| Training Accuracy = 0.8700000047683716\n",
      "Epoch 41 \t| Training Accuracy = 0.8759999871253967\n",
      "Epoch 42 \t| Training Accuracy = 0.8769999742507935\n",
      "Epoch 43 \t| Training Accuracy = 0.871999979019165\n",
      "Epoch 44 \t| Training Accuracy = 0.875\n",
      "Epoch 45 \t| Training Accuracy = 0.8769999742507935\n",
      "Epoch 46 \t| Training Accuracy = 0.8759999871253967\n",
      "Epoch 47 \t| Training Accuracy = 0.8790000081062317\n",
      "Epoch 48 \t| Training Accuracy = 0.9700000286102295\n",
      "Epoch 49 \t| Training Accuracy = 0.9739999771118164\n",
      "Done training!\n"
     ]
    }
   ],
   "source": [
    "for epoch in range(nr_epochs):\n",
    "    #Training dataset\n",
    "    for i in range(nr_iterations):\n",
    "        batch_x, batch_y = next_batch(batch_size=size_of_batch, data=x_train, labels=y_train)\n",
    "        \n",
    "        feed_dictionary = {x: batch_x, y: batch_y}\n",
    "        sess.run(train_step, feed_dict=feed_dictionary)\n",
    "        \n",
    "    s, batch_accuracy = sess.run(fetches=[merged_summary, accuracy], feed_dict=feed_dictionary)\n",
    "    \n",
    "    train_writer.add_summary(s, epoch)\n",
    "    \n",
    "    print(f'Epoch {epoch} \\t| Training Accuracy = {batch_accuracy}')\n",
    "    \n",
    "    #Valdation dataset\n",
    "    summary = sess.run(fetches=merged_summary, feed_dict={x: x_val, y: y_val})\n",
    "    validation_writer.add_summary(summary, epoch)\n",
    "print('Done training!')"
   ]
  },
  {
   "cell_type": "markdown",
   "id": "a6aaabd2-677d-4d19-afc3-27e87c58b603",
   "metadata": {},
   "source": [
    "# Saving the Model"
   ]
  },
  {
   "cell_type": "code",
   "execution_count": 33,
   "id": "733825ca-73d0-4f86-8d7b-29dd1bec0ef5",
   "metadata": {},
   "outputs": [
    {
     "ename": "AttributeError",
     "evalue": "'set' object has no attribute 'items'",
     "output_type": "error",
     "traceback": [
      "\u001b[0;31m---------------------------------------------------------------------------\u001b[0m",
      "\u001b[0;31mAttributeError\u001b[0m                            Traceback (most recent call last)",
      "Cell \u001b[0;32mIn[33], line 4\u001b[0m\n\u001b[1;32m      1\u001b[0m outputs \u001b[38;5;241m=\u001b[39m {\u001b[38;5;124m'\u001b[39m\u001b[38;5;124maccuracy_calc/prediction\u001b[39m\u001b[38;5;124m'\u001b[39m: model_prediction}\n\u001b[1;32m      2\u001b[0m inputs \u001b[38;5;241m=\u001b[39m {\u001b[38;5;124m'\u001b[39m\u001b[38;5;124mx\u001b[39m\u001b[38;5;124m'\u001b[39m, x}\n\u001b[0;32m----> 4\u001b[0m \u001b[43mtf\u001b[49m\u001b[38;5;241;43m.\u001b[39;49m\u001b[43mcompat\u001b[49m\u001b[38;5;241;43m.\u001b[39;49m\u001b[43mv1\u001b[49m\u001b[38;5;241;43m.\u001b[39;49m\u001b[43msaved_model\u001b[49m\u001b[38;5;241;43m.\u001b[39;49m\u001b[43msimple_save\u001b[49m\u001b[43m(\u001b[49m\u001b[43msess\u001b[49m\u001b[43m,\u001b[49m\u001b[43m \u001b[49m\u001b[38;5;124;43m'\u001b[39;49m\u001b[38;5;124;43mSavedModel\u001b[39;49m\u001b[38;5;124;43m'\u001b[39;49m\u001b[43m,\u001b[49m\u001b[43m \u001b[49m\u001b[43minputs\u001b[49m\u001b[43m,\u001b[49m\u001b[43m \u001b[49m\u001b[43moutputs\u001b[49m\u001b[43m,\u001b[49m\u001b[43m \u001b[49m\u001b[43mlegacy_init_op\u001b[49m\u001b[38;5;241;43m=\u001b[39;49m\u001b[38;5;28;43;01mNone\u001b[39;49;00m\u001b[43m)\u001b[49m\n",
      "File \u001b[0;32m~/anaconda3/envs/mnist/lib/python3.10/site-packages/tensorflow/python/util/deprecation.py:357\u001b[0m, in \u001b[0;36mdeprecated.<locals>.deprecated_wrapper.<locals>.new_func\u001b[0;34m(*args, **kwargs)\u001b[0m\n\u001b[1;32m    349\u001b[0m       _PRINTED_WARNING[func] \u001b[38;5;241m=\u001b[39m \u001b[38;5;28;01mTrue\u001b[39;00m\n\u001b[1;32m    350\u001b[0m     logging\u001b[38;5;241m.\u001b[39mwarning(\n\u001b[1;32m    351\u001b[0m         \u001b[38;5;124m'\u001b[39m\u001b[38;5;124mFrom \u001b[39m\u001b[38;5;132;01m%s\u001b[39;00m\u001b[38;5;124m: \u001b[39m\u001b[38;5;132;01m%s\u001b[39;00m\u001b[38;5;124m (from \u001b[39m\u001b[38;5;132;01m%s\u001b[39;00m\u001b[38;5;124m) is deprecated and will be removed \u001b[39m\u001b[38;5;132;01m%s\u001b[39;00m\u001b[38;5;124m.\u001b[39m\u001b[38;5;130;01m\\n\u001b[39;00m\u001b[38;5;124m'\u001b[39m\n\u001b[1;32m    352\u001b[0m         \u001b[38;5;124m'\u001b[39m\u001b[38;5;124mInstructions for updating:\u001b[39m\u001b[38;5;130;01m\\n\u001b[39;00m\u001b[38;5;132;01m%s\u001b[39;00m\u001b[38;5;124m'\u001b[39m,\n\u001b[0;32m   (...)\u001b[0m\n\u001b[1;32m    355\u001b[0m         \u001b[38;5;124m'\u001b[39m\u001b[38;5;124min a future version\u001b[39m\u001b[38;5;124m'\u001b[39m \u001b[38;5;28;01mif\u001b[39;00m date \u001b[38;5;129;01mis\u001b[39;00m \u001b[38;5;28;01mNone\u001b[39;00m \u001b[38;5;28;01melse\u001b[39;00m (\u001b[38;5;124m'\u001b[39m\u001b[38;5;124mafter \u001b[39m\u001b[38;5;132;01m%s\u001b[39;00m\u001b[38;5;124m'\u001b[39m \u001b[38;5;241m%\u001b[39m date),\n\u001b[1;32m    356\u001b[0m         instructions)\n\u001b[0;32m--> 357\u001b[0m \u001b[38;5;28;01mreturn\u001b[39;00m \u001b[43mfunc\u001b[49m\u001b[43m(\u001b[49m\u001b[38;5;241;43m*\u001b[39;49m\u001b[43margs\u001b[49m\u001b[43m,\u001b[49m\u001b[43m \u001b[49m\u001b[38;5;241;43m*\u001b[39;49m\u001b[38;5;241;43m*\u001b[39;49m\u001b[43mkwargs\u001b[49m\u001b[43m)\u001b[49m\n",
      "File \u001b[0;32m~/anaconda3/envs/mnist/lib/python3.10/site-packages/tensorflow/python/saved_model/simple_save.py:77\u001b[0m, in \u001b[0;36msimple_save\u001b[0;34m(session, export_dir, inputs, outputs, legacy_init_op)\u001b[0m\n\u001b[1;32m     26\u001b[0m \u001b[38;5;129m@tf_export\u001b[39m(v1\u001b[38;5;241m=\u001b[39m[\u001b[38;5;124m'\u001b[39m\u001b[38;5;124msaved_model.simple_save\u001b[39m\u001b[38;5;124m'\u001b[39m])\n\u001b[1;32m     27\u001b[0m \u001b[38;5;129m@deprecation\u001b[39m\u001b[38;5;241m.\u001b[39mdeprecated(\n\u001b[1;32m     28\u001b[0m     \u001b[38;5;28;01mNone\u001b[39;00m,\n\u001b[1;32m     29\u001b[0m     \u001b[38;5;124m'\u001b[39m\u001b[38;5;124mThis function will only be available through the v1 compatibility \u001b[39m\u001b[38;5;124m'\u001b[39m\n\u001b[1;32m     30\u001b[0m     \u001b[38;5;124m'\u001b[39m\u001b[38;5;124mlibrary as tf.compat.v1.saved_model.simple_save.\u001b[39m\u001b[38;5;124m'\u001b[39m)\n\u001b[1;32m     31\u001b[0m \u001b[38;5;28;01mdef\u001b[39;00m \u001b[38;5;21msimple_save\u001b[39m(session, export_dir, inputs, outputs, legacy_init_op\u001b[38;5;241m=\u001b[39m\u001b[38;5;28;01mNone\u001b[39;00m):\n\u001b[1;32m     32\u001b[0m   \u001b[38;5;124;03m\"\"\"Convenience function to build a SavedModel suitable for serving.\u001b[39;00m\n\u001b[1;32m     33\u001b[0m \n\u001b[1;32m     34\u001b[0m \u001b[38;5;124;03m  In many common cases, saving models for serving will be as simple as:\u001b[39;00m\n\u001b[0;32m   (...)\u001b[0m\n\u001b[1;32m     73\u001b[0m \u001b[38;5;124;03m        restore op upon a load.\u001b[39;00m\n\u001b[1;32m     74\u001b[0m \u001b[38;5;124;03m  \"\"\"\u001b[39;00m\n\u001b[1;32m     75\u001b[0m   signature_def_map \u001b[38;5;241m=\u001b[39m {\n\u001b[1;32m     76\u001b[0m       signature_constants\u001b[38;5;241m.\u001b[39mDEFAULT_SERVING_SIGNATURE_DEF_KEY:\n\u001b[0;32m---> 77\u001b[0m           \u001b[43msignature_def_utils\u001b[49m\u001b[38;5;241;43m.\u001b[39;49m\u001b[43mpredict_signature_def\u001b[49m\u001b[43m(\u001b[49m\u001b[43minputs\u001b[49m\u001b[43m,\u001b[49m\u001b[43m \u001b[49m\u001b[43moutputs\u001b[49m\u001b[43m)\u001b[49m\n\u001b[1;32m     78\u001b[0m   }\n\u001b[1;32m     79\u001b[0m   b \u001b[38;5;241m=\u001b[39m builder\u001b[38;5;241m.\u001b[39mSavedModelBuilder(export_dir)\n\u001b[1;32m     80\u001b[0m   b\u001b[38;5;241m.\u001b[39madd_meta_graph_and_variables(\n\u001b[1;32m     81\u001b[0m       session,\n\u001b[1;32m     82\u001b[0m       tags\u001b[38;5;241m=\u001b[39m[tag_constants\u001b[38;5;241m.\u001b[39mSERVING],\n\u001b[0;32m   (...)\u001b[0m\n\u001b[1;32m     85\u001b[0m       main_op\u001b[38;5;241m=\u001b[39mlegacy_init_op,\n\u001b[1;32m     86\u001b[0m       clear_devices\u001b[38;5;241m=\u001b[39m\u001b[38;5;28;01mTrue\u001b[39;00m)\n",
      "File \u001b[0;32m~/anaconda3/envs/mnist/lib/python3.10/site-packages/tensorflow/python/saved_model/signature_def_utils_impl.py:204\u001b[0m, in \u001b[0;36mpredict_signature_def\u001b[0;34m(inputs, outputs)\u001b[0m\n\u001b[1;32m    200\u001b[0m \u001b[38;5;28;01mif\u001b[39;00m outputs \u001b[38;5;129;01mis\u001b[39;00m \u001b[38;5;28;01mNone\u001b[39;00m \u001b[38;5;129;01mor\u001b[39;00m \u001b[38;5;129;01mnot\u001b[39;00m outputs:\n\u001b[1;32m    201\u001b[0m   \u001b[38;5;28;01mraise\u001b[39;00m \u001b[38;5;167;01mValueError\u001b[39;00m(\u001b[38;5;124m'\u001b[39m\u001b[38;5;124mPrediction `outputs` cannot be None or empty.\u001b[39m\u001b[38;5;124m'\u001b[39m)\n\u001b[1;32m    203\u001b[0m signature_inputs \u001b[38;5;241m=\u001b[39m {key: utils\u001b[38;5;241m.\u001b[39mbuild_tensor_info(tensor)\n\u001b[0;32m--> 204\u001b[0m                     \u001b[38;5;28;01mfor\u001b[39;00m key, tensor \u001b[38;5;129;01min\u001b[39;00m \u001b[43minputs\u001b[49m\u001b[38;5;241;43m.\u001b[39;49m\u001b[43mitems\u001b[49m()}\n\u001b[1;32m    205\u001b[0m signature_outputs \u001b[38;5;241m=\u001b[39m {key: utils\u001b[38;5;241m.\u001b[39mbuild_tensor_info(tensor)\n\u001b[1;32m    206\u001b[0m                      \u001b[38;5;28;01mfor\u001b[39;00m key, tensor \u001b[38;5;129;01min\u001b[39;00m outputs\u001b[38;5;241m.\u001b[39mitems()}\n\u001b[1;32m    208\u001b[0m signature_def \u001b[38;5;241m=\u001b[39m build_signature_def(\n\u001b[1;32m    209\u001b[0m     signature_inputs, signature_outputs,\n\u001b[1;32m    210\u001b[0m     signature_constants\u001b[38;5;241m.\u001b[39mPREDICT_METHOD_NAME)\n",
      "\u001b[0;31mAttributeError\u001b[0m: 'set' object has no attribute 'items'"
     ]
    }
   ],
   "source": [
    "outputs = {'accuracy_calc/prediction': model_prediction}\n",
    "inputs = {'x', x}\n",
    "\n",
    "tf.compat.v1.saved_model.simple_save(sess, 'SavedModel', inputs, outputs, legacy_init_op=None)"
   ]
  },
  {
   "cell_type": "markdown",
   "id": "2a41c359-2919-424a-8267-7263b0b50d14",
   "metadata": {},
   "source": [
    "# Reset for the next run"
   ]
  },
  {
   "cell_type": "code",
   "execution_count": null,
   "id": "2ad89b63-4bea-4ae6-913c-cb1e8ce34361",
   "metadata": {},
   "outputs": [],
   "source": [
    "from PIL import Image"
   ]
  },
  {
   "cell_type": "code",
   "execution_count": null,
   "id": "e46cb809-b86e-40a7-9d09-1cf4666095d6",
   "metadata": {},
   "outputs": [],
   "source": [
    "img = Image.open('data/test_img.png')"
   ]
  },
  {
   "cell_type": "code",
   "execution_count": null,
   "id": "d057907e-3b65-422e-9b86-c5b178d8378c",
   "metadata": {},
   "outputs": [],
   "source": [
    "bw = img.convert(mode='L')"
   ]
  },
  {
   "cell_type": "code",
   "execution_count": null,
   "id": "b1ee261e-63d1-4a69-8951-ffb3218d3ae6",
   "metadata": {},
   "outputs": [],
   "source": [
    "test_img = np.invert(bw).ravel()"
   ]
  },
  {
   "cell_type": "code",
   "execution_count": null,
   "id": "1dcd9bae-e8b0-4430-b81c-b250f2898097",
   "metadata": {},
   "outputs": [],
   "source": [
    "prediction = sess.run(fetches=tf.argmax(output, axis=1), feed_dict={x: [test_img]})\n",
    "prediction"
   ]
  },
  {
   "cell_type": "code",
   "execution_count": null,
   "id": "9e5d687f-072b-4278-bf39-992b085e05c7",
   "metadata": {},
   "outputs": [],
   "source": [
    "train_writer.close()\n",
    "validation_writer.close()\n",
    "sess.close()\n",
    "tf.reset_default_graph()"
   ]
  }
 ],
 "metadata": {
  "kernelspec": {
   "display_name": "Python 3 (ipykernel)",
   "language": "python",
   "name": "python3"
  },
  "language_info": {
   "codemirror_mode": {
    "name": "ipython",
    "version": 3
   },
   "file_extension": ".py",
   "mimetype": "text/x-python",
   "name": "python",
   "nbconvert_exporter": "python",
   "pygments_lexer": "ipython3",
   "version": "3.10.8"
  }
 },
 "nbformat": 4,
 "nbformat_minor": 5
}
